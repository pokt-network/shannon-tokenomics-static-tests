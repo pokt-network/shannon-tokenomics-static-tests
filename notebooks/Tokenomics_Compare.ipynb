{
 "cells": [
  {
   "cell_type": "code",
   "execution_count": 1,
   "metadata": {},
   "outputs": [],
   "source": [
    "import numpy as np\n",
    "import pandas as pd\n",
    "from copy import deepcopy\n",
    "import sys\n",
    "sys.path.append('../lib')\n",
    "import shane\n",
    "import utils\n",
    "import mint_v2\n"
   ]
  },
  {
   "cell_type": "markdown",
   "metadata": {},
   "source": [
    "# Comparison of Shane's model and MINT-V2\n",
    "\n",
    "This is a simple re-execution of [Shane's final tokenomics spreadsheet](https://docs.google.com/spreadsheets/d/1-_G8VCQ7WbytNmps_N6LhQJatPN3CvV6z2_e0bN9cC0/edit?usp=sharing) and a side-by-side execution of the MINT-V2 code.\n",
    "\n",
    "This is just an static test amid to be used only to compare the models against the spreadsheet calculation."
   ]
  },
  {
   "cell_type": "markdown",
   "metadata": {},
   "source": [
    "# Parameters"
   ]
  },
  {
   "cell_type": "code",
   "execution_count": 2,
   "metadata": {},
   "outputs": [],
   "source": [
    "# Download \"Performance\" card from https://poktscan.com/explore?tab=chains \n",
    "CSV_FILE = '../data/chains_performance_2024-05-20_SAMPLE.csv'\n",
    "\n",
    "# Network Conditions\n",
    "network_macro = dict()\n",
    "network_macro['POKT_value'] = 0.50               # USD/POKT\n",
    "network_macro['total_supply'] = 1679901301.43    # POKT\n",
    "network_macro['POKT_stake_per_node'] = 60e3      # POKT (irrelevant but for APR calcualtion, which is a no-goal)\n",
    "network_macro['relay_multiplier'] = 1           # -\n",
    "network_macro['base_relay_CU_cost'] = 100           # CUs/relay\n",
    "network_macro['compute_unit_fee'] = 0.0000000085 # USD/CU\n",
    "network_macro['mint_share'] = {\n",
    "                                    \"DAO\" : 0.10,\n",
    "                                    \"Validator\" : 0.05,\n",
    "                                    \"Suplier\" : 0.7,\n",
    "                                    \"Source\" : 0.15,\n",
    "                                }\n",
    "\n",
    "assert sum(network_macro['mint_share'].values()) == 1, \"The mint share must sum 1 (100%%)\""
   ]
  },
  {
   "cell_type": "markdown",
   "metadata": {},
   "source": [
    "### Read Chains Data"
   ]
  },
  {
   "cell_type": "code",
   "execution_count": 3,
   "metadata": {},
   "outputs": [],
   "source": [
    "# Read chains data\n",
    "chains_df = utils.get_chain_data(CSV_FILE, relay_multiplier=network_macro['relay_multiplier'], spreadsheet_compat = True)\n",
    "# Add compute cost\n",
    "chains_df = utils.add_compute_cost(chains_df, sample_type='uniform', mean=network_macro['base_relay_CU_cost'])\n",
    "# To copy spreadsheet, set the solana custom to twice the base cost\n",
    "chains_df.loc[chains_df['Chain'] == 'Solana Custom (C006)', 'Compute Cost'] = network_macro['base_relay_CU_cost']*2"
   ]
  },
  {
   "cell_type": "code",
   "execution_count": 4,
   "metadata": {},
   "outputs": [],
   "source": [
    "# From data\n",
    "network_macro['daily relays'] = chains_df['Relays'].sum()\n",
    "network_macro['supplier nodes'] = chains_df['Active Nodes'].sum()"
   ]
  },
  {
   "cell_type": "markdown",
   "metadata": {},
   "source": [
    "### Shane's Parameters"
   ]
  },
  {
   "cell_type": "code",
   "execution_count": 5,
   "metadata": {},
   "outputs": [],
   "source": [
    "shane_params = dict()\n",
    "\n",
    "# Suplier Boost\n",
    "shane_params['deflation_threshold'] = 25e9      # relays by day\n",
    "shane_params['max_mint_per_day'] = 180e3       # POKT\n",
    "# Sources Boost\n",
    "shane_params['cutoff_point'] = 20e9             # relays/day\n",
    "shane_params['prop_of_CUF'] = 0.7               # -\n",
    "# Miscellaneous (Sources Boost)\n",
    "shane_params['prop_ceiling'] = 0.0              # -\n",
    "shane_params['floor_relays'] = 5e9              # relays by day\n",
    "shane_params['gfpr_rar_ceiling_relays'] = 1.5e9 # relays by day\n",
    "shane_params['gfpr_rar_prop_ceiling'] = 0.15    # -\n",
    "shane_params['gfpr_rar_floor_relays'] = 5e6     # relays by day\n",
    "shane_params['gfpr_rar_prop_floor'] = 0.9       # -\n",
    "shane_params['gfpr_rar_max_supplier_boost'] = 40e3 # USD\n"
   ]
  },
  {
   "cell_type": "markdown",
   "metadata": {},
   "source": [
    "### MINT-V2 Parameters"
   ]
  },
  {
   "cell_type": "code",
   "execution_count": 6,
   "metadata": {},
   "outputs": [],
   "source": [
    "mint_v2_params = deepcopy(mint_v2.data_dict_defaults)\n",
    "\n",
    "# Ecosystem Costs and Charges\n",
    "mint_v2_params[\"MaturityComputeUnitsCharge\"]                 = 0.85e-8                     # USD/ComputeUnits\n",
    "mint_v2_params[\"MaturityComputeUnitsCost\"]                   = 0.85e-8              # USD/ComputeUnits\n",
    "mint_v2_params[\"SupplyGrowCap\"]                       = 0.025                        # times\n",
    "# Servicers\n",
    "mint_v2_params[\"MaxBootstrapServicerCostPerComputeUnits\"]    = 5e-8           # USD/ComputeUnits\n",
    "mint_v2_params[\"ServicersBootstrapUnwindStart\"]       = 250                           # Billon ComputeUnits/day\n",
    "mint_v2_params[\"ServicersBootstrapEnd\"]               = 2500                          # Billon ComputeUnits/day\n",
    "mint_v2_params[\"MinUsdMint\"]               = 20e3                           # USD/day\n",
    "\n",
    "# Gateways\n",
    "mint_v2_params[\"MinBootstrapGatewayFeePerComputeUnits\"]      = 0.0000000085                    # USD/ComputeUnits\n",
    "mint_v2_params[\"GatewaysBootstrapUnwindStart\"]        = 250                           # Billon ComputeUnits/day\n",
    "mint_v2_params[\"GatewaysBootstrapEnd\"]                = 2500                           # Billon ComputeUnitss/day\n",
    "\n",
    "# Check that the minimum minting is not higher than the maturity (miny <= burn) phase miniting\n",
    "assert mint_v2_params[\"MinUsdMint\"] <= mint_v2_params[\"MaturityComputeUnitsCharge\"]*mint_v2_params[\"GatewaysBootstrapEnd\"]*1e9\n"
   ]
  },
  {
   "cell_type": "markdown",
   "metadata": {},
   "source": [
    "# Compare"
   ]
  },
  {
   "cell_type": "code",
   "execution_count": 7,
   "metadata": {},
   "outputs": [],
   "source": [
    "# Process Shane\n",
    "shanes_per_service_df, shanes_results  = shane.process(chains_df, network_macro, shane_params)\n",
    "# Process MINT-V2\n",
    "mint_v2_per_service_df, mint_v2_results  = mint_v2.process(chains_df, network_macro, mint_v2_params)"
   ]
  },
  {
   "cell_type": "code",
   "execution_count": 8,
   "metadata": {},
   "outputs": [],
   "source": [
    "# Comparison dataframe on the spreadsheet highlighted results (in green)\n",
    "data_rows = list()\n",
    "\n",
    "for actor, results in zip(['Shane', 'MINT-V2'], [shanes_results, mint_v2_results]):\n",
    "    row_values = list()\n",
    "    row_values.append(actor)\n",
    "    # Supply growth rate\n",
    "    row_values.append(((results['Total_Mint'] - results['Total_Burn'])*365.25/network_macro['total_supply'])*100.)\n",
    "    # Over-minted total\n",
    "    row_values.append(results['Total_Mint']-results['Total_Burn'])\n",
    "    # POKT burnt\n",
    "    row_values.append(results['Total_Burn'])\n",
    "    # Suplier monthly income in USD\n",
    "    month_income_usd = results['Total_Mint_base']*network_macro['mint_share']['Suplier']*30.4*network_macro['POKT_value'] /network_macro['supplier nodes']\n",
    "    row_values.append(month_income_usd)\n",
    "    # Suplier APR\n",
    "    row_values.append(((month_income_usd/30.4)*365./(network_macro['POKT_stake_per_node']*network_macro['POKT_value']))*100.)\n",
    "    # Over-mint per day due to supliers extra minting\n",
    "    row_values.append(results['Total_Mint_base']-results['Total_Burn'])\n",
    "    # Over-minted to sources\n",
    "    row_values.append(results['Total_Mint_others'])\n",
    "    \n",
    "\n",
    "    data_rows.append(row_values)\n",
    "\n",
    "results_df = pd.DataFrame(data_rows, columns=['Model', \n",
    "                                              'Supply Growth Rate [%]', \n",
    "                                              'Over-minting per Day [POKT]', \n",
    "                                              'POKT burnt per Day [POKT]',\n",
    "                                              'Suplier Income per Day [USD]',\n",
    "                                              'Suplier APR (USD) [%]',\n",
    "                                              'Over-mint per Day for Supliers [POKT]',\n",
    "                                              'Over-mint per Day for Sources [POKT]',\n",
    "                                              ])\n"
   ]
  },
  {
   "cell_type": "code",
   "execution_count": 9,
   "metadata": {},
   "outputs": [
    {
     "data": {
      "text/html": [
       "<div>\n",
       "<style scoped>\n",
       "    .dataframe tbody tr th:only-of-type {\n",
       "        vertical-align: middle;\n",
       "    }\n",
       "\n",
       "    .dataframe tbody tr th {\n",
       "        vertical-align: top;\n",
       "    }\n",
       "\n",
       "    .dataframe thead th {\n",
       "        text-align: right;\n",
       "    }\n",
       "</style>\n",
       "<table border=\"1\" class=\"dataframe\">\n",
       "  <thead>\n",
       "    <tr style=\"text-align: right;\">\n",
       "      <th></th>\n",
       "      <th>Model</th>\n",
       "      <th>Supply Growth Rate [%]</th>\n",
       "      <th>Over-minting per Day [POKT]</th>\n",
       "      <th>POKT burnt per Day [POKT]</th>\n",
       "      <th>Suplier Income per Day [USD]</th>\n",
       "      <th>Suplier APR (USD) [%]</th>\n",
       "      <th>Over-mint per Day for Supliers [POKT]</th>\n",
       "      <th>Over-mint per Day for Sources [POKT]</th>\n",
       "    </tr>\n",
       "  </thead>\n",
       "  <tbody>\n",
       "    <tr>\n",
       "      <th>0</th>\n",
       "      <td>Shane</td>\n",
       "      <td>1.036518</td>\n",
       "      <td>47672.750233</td>\n",
       "      <td>984.486454</td>\n",
       "      <td>2.577186</td>\n",
       "      <td>0.103144</td>\n",
       "      <td>47068.886001</td>\n",
       "      <td>603.864233</td>\n",
       "    </tr>\n",
       "    <tr>\n",
       "      <th>1</th>\n",
       "      <td>MINT-V2</td>\n",
       "      <td>0.666231</td>\n",
       "      <td>30642.086477</td>\n",
       "      <td>984.486454</td>\n",
       "      <td>1.696188</td>\n",
       "      <td>0.067885</td>\n",
       "      <td>30642.086477</td>\n",
       "      <td>0.000000</td>\n",
       "    </tr>\n",
       "  </tbody>\n",
       "</table>\n",
       "</div>"
      ],
      "text/plain": [
       "     Model  Supply Growth Rate [%]  Over-minting per Day [POKT]  \\\n",
       "0    Shane                1.036518                 47672.750233   \n",
       "1  MINT-V2                0.666231                 30642.086477   \n",
       "\n",
       "   POKT burnt per Day [POKT]  Suplier Income per Day [USD]  \\\n",
       "0                 984.486454                      2.577186   \n",
       "1                 984.486454                      1.696188   \n",
       "\n",
       "   Suplier APR (USD) [%]  Over-mint per Day for Supliers [POKT]  \\\n",
       "0               0.103144                           47068.886001   \n",
       "1               0.067885                           30642.086477   \n",
       "\n",
       "   Over-mint per Day for Sources [POKT]  \n",
       "0                            603.864233  \n",
       "1                              0.000000  "
      ]
     },
     "execution_count": 9,
     "metadata": {},
     "output_type": "execute_result"
    }
   ],
   "source": [
    "results_df"
   ]
  }
 ],
 "metadata": {
  "kernelspec": {
   "display_name": ".venv",
   "language": "python",
   "name": "python3"
  },
  "language_info": {
   "codemirror_mode": {
    "name": "ipython",
    "version": 3
   },
   "file_extension": ".py",
   "mimetype": "text/x-python",
   "name": "python",
   "nbconvert_exporter": "python",
   "pygments_lexer": "ipython3",
   "version": "3.10.13"
  }
 },
 "nbformat": 4,
 "nbformat_minor": 2
}
