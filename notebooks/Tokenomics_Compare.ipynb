{
  "cells": [
    {
      "cell_type": "code",
      "execution_count": 1,
      "metadata": {},
      "outputs": [],
      "source": [
        "import numpy as np\n",
        "import pandas as pd\n",
        "from copy import deepcopy\n",
        "import sys\n",
        "sys.path.append('../lib')\n",
        "import shane\n",
        "import data_utils\n",
        "import mint_v2\n",
        "import token_logic_modules as tlm"
      ]
    },
    {
      "cell_type": "markdown",
      "metadata": {},
      "source": [
        "# Comparison of Shane's model, MINT-V2 and TLMs\n",
        "\n",
        "This is a simple re-execution of [Shane's final tokenomics spreadsheet](https://docs.google.com/spreadsheets/d/1-_G8VCQ7WbytNmps_N6LhQJatPN3CvV6z2_e0bN9cC0/edit?usp=sharing) and a side-by-side execution of the MINT-V2 and TLMs code.\n",
        "\n",
        "This is just an static test amid to be used only to compare the models against the spreadsheet calculation."
      ]
    },
    {
      "cell_type": "markdown",
      "metadata": {},
      "source": [
        "# Parameters"
      ]
    },
    {
      "cell_type": "code",
      "execution_count": 2,
      "metadata": {},
      "outputs": [],
      "source": [
        "# Download \"Performance\" card from https://poktscan.com/explore?tab=chains\n",
        "CSV_FILE = '../data/chains_performance_2024-05-20_SAMPLE.csv'\n",
        "\n",
        "# Network Conditions\n",
        "network_macro = dict()\n",
        "network_macro['POKT_value'] = 0.50               # USD/POKT\n",
        "network_macro['total_supply'] = 1679901301.43    # POKT\n",
        "network_macro['POKT_stake_per_node'] = 60e3      # POKT (irrelevant but for APR calculation, which is a non-goal)\n",
        "network_macro['relay_multiplier'] = 1            # TODO: WHAT IS THIS SUPPOSED TO BE?\n",
        "network_macro['base_CU_per_relay'] = 100        # CUs/relay\n",
        "network_macro['cu_cost'] = 0.0000000085 # USD/CU\n",
        "network_macro['mint_share'] = {\n",
        "                                    \"DAO\"       : 0.10,\n",
        "                                    \"Validator\" : 0.05,\n",
        "                                    \"Supplier\"   : 0.7,\n",
        "                                    \"Source\"    : 0.15,\n",
        "                                }\n",
        "\n",
        "assert sum(network_macro['mint_share'].values()) == 1, \"The mint share must sum 1 (100%%)\""
      ]
    },
    {
      "cell_type": "markdown",
      "metadata": {},
      "source": [
        "### Read Chains Data"
      ]
    },
    {
      "cell_type": "code",
      "execution_count": 3,
      "metadata": {},
      "outputs": [
        {
          "name": "stdout",
          "output_type": "stream",
          "text": [
            "Index(['Chain', 'Earn AVG', 'Network', 'Change', 'relays', 'active_nodes'], dtype='object')\n"
          ]
        }
      ],
      "source": [
        "# Read chains data\n",
        "chains_df = data_utils.get_services_df(\n",
        "    CSV_FILE, relay_multiplier=network_macro[\"relay_multiplier\"], spreadsheet_compact=True\n",
        ")\n",
        "\n",
        "# Add compute cost\n",
        "chains_df = data_utils.add_compute_cost(chains_df, sample_type=\"uniform\", mean=network_macro[\"base_CU_per_relay\"])\n",
        "\n",
        "# To copy spreadsheet, set the solana custom to twice the base cost\n",
        "chains_df.loc[chains_df['Chain'] == 'Solana Custom (C006)', 'cu_per_relay'] = network_macro['base_CU_per_relay']*2"
      ]
    },
    {
      "cell_type": "code",
      "execution_count": 5,
      "metadata": {},
      "outputs": [
        {
          "data": {
            "text/plain": [
              "{'POKT_value': 0.5,\n",
              " 'total_supply': 1679901301.43,\n",
              " 'POKT_stake_per_node': 60000.0,\n",
              " 'relay_multiplier': 1,\n",
              " 'base_CU_per_relay': 100,\n",
              " 'cu_cost': 8.5e-09,\n",
              " 'mint_share': {'DAO': 0.1,\n",
              "  'Validator': 0.05,\n",
              "  'Supplier': 0.7,\n",
              "  'Source': 0.15},\n",
              " 'daily_relays': 512183851.0,\n",
              " 'supplier_nodes': 198390.0}"
            ]
          },
          "execution_count": 5,
          "metadata": {},
          "output_type": "execute_result"
        }
      ],
      "source": [
        "# From data\n",
        "network_macro['daily_relays'] = chains_df['relays'].sum()\n",
        "network_macro['supplier_nodes'] = chains_df['active_nodes'].sum()\n",
        "network_macro"
      ]
    },
    {
      "cell_type": "markdown",
      "metadata": {},
      "source": [
        "### Shane's Parameters"
      ]
    },
    {
      "cell_type": "code",
      "execution_count": 6,
      "metadata": {},
      "outputs": [],
      "source": [
        "shane_params = dict()\n",
        "\n",
        "# Supplier Boost\n",
        "shane_params['deflation_threshold'] = 25e9          # relays by day\n",
        "shane_params['max_mint_per_day'] = 180e3            # POKT\n",
        "\n",
        "# Sources Boost\n",
        "shane_params['cutoff_point'] = 20e9                 # relays/day\n",
        "shane_params['prop_of_CUF'] = 0.7                   # -\n",
        "\n",
        "# Miscellaneous (Sources Boost)\n",
        "shane_params['prop_ceiling'] = 0.0                  # -\n",
        "shane_params['floor_relays'] = 5e9                  # relays by day\n",
        "shane_params['gfpr_rar_ceiling_relays'] = 1.5e9     # relays by day\n",
        "shane_params['gfpr_rar_prop_ceiling'] = 0.15        # -\n",
        "shane_params['gfpr_rar_floor_relays'] = 5e6         # relays by day\n",
        "shane_params['gfpr_rar_prop_floor'] = 0.9           # -\n",
        "shane_params['gfpr_rar_max_supplier_boost'] = 40e3  # USD\n"
      ]
    },
    {
      "cell_type": "markdown",
      "metadata": {},
      "source": [
        "### MINT-V2 Parameters"
      ]
    },
    {
      "cell_type": "code",
      "execution_count": 7,
      "metadata": {},
      "outputs": [],
      "source": [
        "mint_v2_params = deepcopy(mint_v2.data_dict_defaults)\n",
        "\n",
        "# Ecosystem Costs and Charges\n",
        "mint_v2_params[\"MaturityComputeUnitsCharge\"]                = 0.85e-8       # USD/ComputeUnits\n",
        "mint_v2_params[\"MaturityComputeUnitsCost\"]                  = 0.85e-8       # USD/ComputeUnits\n",
        "mint_v2_params[\"SupplyGrowCap\"]                             = 0.05          # times\n",
        "\n",
        "# Servicers\n",
        "mint_v2_params[\"MaxBootstrapServicerCostPerComputeUnits\"]   = 5e-8          # USD/ComputeUnits\n",
        "mint_v2_params[\"ServicersBootstrapUnwindStart\"]             = 250           # Billon ComputeUnits/day\n",
        "mint_v2_params[\"ServicersBootstrapEnd\"]                     = 2500          # Billon ComputeUnits/day\n",
        "mint_v2_params[\"MinUsdMint\"]                                = 20e3          # USD/day\n",
        "\n",
        "# Gateways\n",
        "mint_v2_params[\"MinBootstrapGatewayFeePerComputeUnits\"]     = 0.85e-8       # USD/ComputeUnits\n",
        "mint_v2_params[\"GatewaysBootstrapUnwindStart\"]              = 250           # Billon ComputeUnits/day\n",
        "mint_v2_params[\"GatewaysBootstrapEnd\"]                      = 2500          # Billon ComputeUnits/day\n",
        "\n",
        "# Check that the minimum minting is not higher than the maturity (miny <= burn) phase minting\n",
        "assert mint_v2_params[\"MinUsdMint\"] <= mint_v2_params[\"MaturityComputeUnitsCharge\"]*mint_v2_params[\"GatewaysBootstrapEnd\"]*1e9\n",
        "\n",
        "\n",
        "# Additional parameters to activate entropy (just for test)\n",
        "mint_v2_params['apply_entropy'] = False\n"
      ]
    },
    {
      "cell_type": "markdown",
      "metadata": {},
      "source": [
        "### Token Logic Modules (TLMs) Parameters\n",
        "\n",
        "This is only a simple override, please see all parameters in the module file."
      ]
    },
    {
      "cell_type": "code",
      "execution_count": 8,
      "metadata": {},
      "outputs": [],
      "source": [
        "tlm_params = deepcopy(tlm.global_params_dict)\n",
        "tlm_params['core_TLM']['cu_cost'] = network_macro['cu_cost']\n",
        "tlm_params['apply_entropy'] = mint_v2_params['apply_entropy']"
      ]
    },
    {
      "cell_type": "markdown",
      "metadata": {},
      "source": [
        "# Compare"
      ]
    },
    {
      "cell_type": "code",
      "execution_count": 9,
      "metadata": {},
      "outputs": [],
      "source": [
        "# Process Shane\n",
        "shanes_per_service_df, shanes_results  = shane.process(chains_df, network_macro, shane_params)\n",
        "# Process MINT-V2\n",
        "mint_v2_per_service_df, mint_v2_results  = mint_v2.process(chains_df, network_macro, mint_v2_params)\n",
        "# Process TLM\n",
        "tlm_per_service_df, tlm_results  = tlm.process(chains_df, network_macro, tlm_params)"
      ]
    },
    {
      "cell_type": "code",
      "execution_count": 12,
      "metadata": {},
      "outputs": [],
      "source": [
        "# Comparison dataframe on the spreadsheet highlighted results (in green)\n",
        "data_rows = list()\n",
        "\n",
        "for actor, results in zip(['Shane', 'MINT-V2', 'TLM'], [shanes_results, mint_v2_results, tlm_results]):\n",
        "    row_values = list()\n",
        "    row_values.append(actor)\n",
        "    # Supply growth rate\n",
        "    row_values.append(((results['total_mint'] - results['total_burn'])*365.25/network_macro['total_supply'])*100.)\n",
        "    # Over-minted total\n",
        "    row_values.append(results['total_mint']-results['total_burn'])\n",
        "    # POKT burnt\n",
        "    row_values.append(results['total_burn'])\n",
        "    # Supplier monthly income in USD\n",
        "    month_income_usd = (\n",
        "        # results[\"total_mint_base\"]\n",
        "        # * network_macro[\"mint_share\"][\"Supplier\"]\n",
        "        results['total_mint_supplier']\n",
        "        * 30.4\n",
        "        * network_macro[\"POKT_value\"]\n",
        "        / network_macro[\"supplier_nodes\"]\n",
        "    )\n",
        "    row_values.append(month_income_usd)\n",
        "    # Supplier APR\n",
        "    row_values.append(((month_income_usd/30.4)*365./(network_macro['POKT_stake_per_node']*network_macro['POKT_value']))*100.)\n",
        "    # Over-mint per day due to suppliers extra minting\n",
        "    row_values.append(results['total_mint_supplier']-results['total_burn'] * network_macro[\"mint_share\"][\"Supplier\"])\n",
        "    # Over-minted to sources\n",
        "    row_values.append(results['total_mint_source']-results['total_burn'] * network_macro[\"mint_share\"][\"Source\"])\n",
        "\n",
        "    data_rows.append(row_values)\n",
        "\n",
        "results_df = pd.DataFrame(\n",
        "    data_rows,\n",
        "    columns=[\n",
        "        \"Model\",\n",
        "        \"Supply Growth Rate [%]\",\n",
        "        \"Over-minting per Day [POKT]\",\n",
        "        \"POKT burnt per Day [POKT]\",\n",
        "        \"Supplier Income per Day [USD]\",\n",
        "        \"Supplier APR (USD) [%]\",\n",
        "        \"Over-mint per Day for Suppliers [POKT]\",\n",
        "        \"Over-mint per Day for Sources [POKT]\",\n",
        "    ],\n",
        ")"
      ]
    },
    {
      "cell_type": "code",
      "execution_count": 13,
      "metadata": {},
      "outputs": [
        {
          "data": {
            "text/html": [
              "<div>\n",
              "<style scoped>\n",
              "    .dataframe tbody tr th:only-of-type {\n",
              "        vertical-align: middle;\n",
              "    }\n",
              "\n",
              "    .dataframe tbody tr th {\n",
              "        vertical-align: top;\n",
              "    }\n",
              "\n",
              "    .dataframe thead th {\n",
              "        text-align: right;\n",
              "    }\n",
              "</style>\n",
              "<table border=\"1\" class=\"dataframe\">\n",
              "  <thead>\n",
              "    <tr style=\"text-align: right;\">\n",
              "      <th></th>\n",
              "      <th>Model</th>\n",
              "      <th>Supply Growth Rate [%]</th>\n",
              "      <th>Over-minting per Day [POKT]</th>\n",
              "      <th>POKT burnt per Day [POKT]</th>\n",
              "      <th>Supplier Income per Day [USD]</th>\n",
              "      <th>Supplier APR (USD) [%]</th>\n",
              "      <th>Over-mint per Day for Suppliers [POKT]</th>\n",
              "      <th>Over-mint per Day for Sources [POKT]</th>\n",
              "    </tr>\n",
              "  </thead>\n",
              "  <tbody>\n",
              "    <tr>\n",
              "      <th>0</th>\n",
              "      <td>Shane</td>\n",
              "      <td>1.036518</td>\n",
              "      <td>47672.750233</td>\n",
              "      <td>984.486454</td>\n",
              "      <td>3.118126</td>\n",
              "      <td>0.124793</td>\n",
              "      <td>40008.553101</td>\n",
              "      <td>603.864233</td>\n",
              "    </tr>\n",
              "    <tr>\n",
              "      <th>1</th>\n",
              "      <td>MINT-V2</td>\n",
              "      <td>0.848289</td>\n",
              "      <td>39015.513546</td>\n",
              "      <td>984.486454</td>\n",
              "      <td>2.145269</td>\n",
              "      <td>0.085858</td>\n",
              "      <td>27310.859482</td>\n",
              "      <td>5852.327032</td>\n",
              "    </tr>\n",
              "    <tr>\n",
              "      <th>2</th>\n",
              "      <td>TLM</td>\n",
              "      <td>0.084361</td>\n",
              "      <td>3880.034849</td>\n",
              "      <td>984.486454</td>\n",
              "      <td>0.260893</td>\n",
              "      <td>0.010441</td>\n",
              "      <td>2716.024395</td>\n",
              "      <td>582.005227</td>\n",
              "    </tr>\n",
              "  </tbody>\n",
              "</table>\n",
              "</div>"
            ],
            "text/plain": [
              "     Model  Supply Growth Rate [%]  Over-minting per Day [POKT]  \\\n",
              "0    Shane                1.036518                 47672.750233   \n",
              "1  MINT-V2                0.848289                 39015.513546   \n",
              "2      TLM                0.084361                  3880.034849   \n",
              "\n",
              "   POKT burnt per Day [POKT]  Supplier Income per Day [USD]  \\\n",
              "0                 984.486454                       3.118126   \n",
              "1                 984.486454                       2.145269   \n",
              "2                 984.486454                       0.260893   \n",
              "\n",
              "   Supplier APR (USD) [%]  Over-mint per Day for Suppliers [POKT]  \\\n",
              "0                0.124793                            40008.553101   \n",
              "1                0.085858                            27310.859482   \n",
              "2                0.010441                             2716.024395   \n",
              "\n",
              "   Over-mint per Day for Sources [POKT]  \n",
              "0                            603.864233  \n",
              "1                           5852.327032  \n",
              "2                            582.005227  "
            ]
          },
          "execution_count": 13,
          "metadata": {},
          "output_type": "execute_result"
        }
      ],
      "source": [
        "results_df"
      ]
    },
    {
      "cell_type": "markdown",
      "metadata": {},
      "source": [
        "(Note the lower values of TLM for not aplying minimum mint)"
      ]
    }
  ],
  "metadata": {
    "kernelspec": {
      "display_name": ".venv",
      "language": "python",
      "name": "python3"
    },
    "language_info": {
      "codemirror_mode": {
        "name": "ipython",
        "version": 3
      },
      "file_extension": ".py",
      "mimetype": "text/x-python",
      "name": "python",
      "nbconvert_exporter": "python",
      "pygments_lexer": "ipython3",
      "version": "3.10.13"
    }
  },
  "nbformat": 4,
  "nbformat_minor": 2
}
